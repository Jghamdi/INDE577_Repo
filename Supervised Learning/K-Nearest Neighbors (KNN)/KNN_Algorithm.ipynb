{
 "cells": [
  {
   "cell_type": "markdown",
   "metadata": {},
   "source": [
    "# K-nearest Neighbors (KNN)\n",
    "\n",
    "In this notebook, we will explore the K-Nearest Neighbors (KNN) algorithm, a simple yet powerful supervised machine learning algorithm used for classification and regression tasks. KNN is a non-parametric and instance-based learning algorithm, meaning it makes predictions based on the similarity of new data points to existing data points in the training dataset.\n",
    "\n",
    "## Overview of KNN:\n",
    "- **Classification**: In KNN classification, the algorithm assigns a class label to a new data point based on the majority class among its k nearest neighbors.  \n",
    "\n",
    "- **Regression**: In KNN regression, the algorithm predicts the numerical value of a new data point based on the average of the values of its k nearest neighbors.  \n",
    "\n",
    "### How KNN Works:\n",
    "- **Calculate Distance**: KNN calculates the distance between the new data point and all other data points in the training dataset. The most commonly used distance metric is the Euclidean distance.  \n",
    "-**Find Neighbors**: It identifies the k nearest neighbors of the new data point based on the calculated distances.   \n",
    "\n",
    "- **Majority Vote (Classification)**: For classification tasks, KNN assigns the class label that is most common among its k nearest neighbors.  \n",
    "\n",
    "- **Average (Regression)**: For regression tasks, KNN predicts the average value of the target variable among its k nearest neighbors.  \n",
    "\n",
    "### Dataset:  \n",
    "\n",
    "In this notebook, we will use the Palmer Penguin dataset, a popular dataset in the field of data science and machine learning. The dataset contains various physical measurements of penguins from three different species: Adelie, Chinstrap, and Gentoo. Our goal will be to classify the species of penguins using the KNN algorithm based on their physical measurements.\n",
    "\n",
    "Let's dive into the implementation and explore how KNN performs on the Palmer Penguin dataset!"
   ]
  },
  {
   "cell_type": "code",
   "execution_count": 1,
   "metadata": {},
   "outputs": [
    {
     "data": {
      "image/png": "[encoded data removed]",
      "text/plain": [
       "<Figure size 720x576 with 1 Axes>"
      ]
     },
     "metadata": {
      "needs_background": "light"
     },
     "output_type": "display_data"
    }
   ],
   "source": [
    "# Import standard data science libraries for visualization and data manipulation.\n",
    "import matplotlib.pyplot as plt\n",
    "import numpy as np\n",
    "import pandas as pd\n",
    "import seaborn as sns\n",
    "\n",
    "# Load the penguin dataset.\n",
    "penguins = sns.load_dataset(\"penguins\")\n",
    "\n",
    "# Plot the data to view it.\n",
    "species_colors = {\"Adelie\": \"blue\", \"Chinstrap\": \"green\", \"Gentoo\": \"orange\"}\n",
    "\n",
    "fig, ax = plt.subplots(figsize=(10, 8))\n",
    "for species, color in species_colors.items():\n",
    "    temp_df = penguins[penguins.species == species]\n",
    "    ax.scatter(temp_df.bill_length_mm,\n",
    "               temp_df.bill_depth_mm,\n",
    "               c=color,\n",
    "               label=species)\n",
    "\n",
    "ax.set_xlabel(\"Bill Length [mm]\", fontsize=15)\n",
    "ax.set_ylabel(\"Bill Depth [mm]\", fontsize=15)\n",
    "ax.legend(fontsize=12)\n",
    "plt.show()\n"
   ]
  },
  {
   "cell_type": "markdown",
   "metadata": {},
   "source": [
    "---\n",
    "\n",
    "In the provided illustration, it's evident that data points sharing similarities are typically located close to each other. The KNN algorithm heavily relies on this assumption being sufficiently true for the algorithm to yield meaningful results. KNN encapsulates the concept of similarity (also referred to as distance, proximity, or closeness) using mathematical computations akin to those encountered in our early education—specifically, computing the distance between points on a graph.\n",
    "\n",
    "### Key Steps of the KNN Algorithm  \n",
    "\n",
    "1. Data Loading: Begin by loading the dataset.  \n",
    "2. K Initialization: Determine the desired number of neighbors, denoted as K.  \n",
    "#### For each data example:\n",
    "- 3.1 Compute the distance between the query example and the current data example.  \n",
    "- 3.2 Append the computed distance and the index of the example to an ordered collection.  \n",
    "4. Arrange the collection of distances and indices in ascending order based on the distances.  \n",
    "5. Select the first K entries from the sorted collection.  \n",
    "6. Obtain the labels of the chosen K entries.  \n",
    "7. For regression tasks, return the mean value of the K labels.  \n",
    "8. For classification tasks, return the mode of the K labels.  \n",
    "\n",
    "Prior to implementing this algorithm, it's necessary to create a training set and testing set by executing the provided code snippet.\n",
    "\n",
    "--"
   ]
  },
  {
   "cell_type": "code",
   "execution_count": 22,
   "metadata": {},
   "outputs": [],
   "source": [
    "# Importing the train_test_split function from sklearn.model_selection module.\n",
    "from sklearn.model_selection import train_test_split\n",
    "\n",
    "# Assuming the penguin dataset is loaded into a variable named 'penguins', \n",
    "# extracting the feature variables (flipper length and body mass) and converting them to a NumPy array.\n",
    "X = penguins[[\"flipper_length_mm\", \"body_mass_g\"]].to_numpy()\n",
    "\n",
    "# Extracting the target variable (species) and converting it to a NumPy array.\n",
    "y = penguins[\"species\"].to_numpy()\n",
    "\n",
    "# Splitting the dataset into training and testing sets using the train_test_split function.\n",
    "# The testing set will comprise 33% of the total dataset, and the random_state is set to 1 for reproducibility.\n",
    "X_train, X_test, y_train, y_test = train_test_split(X, y, test_size=0.33, random_state=1)\n",
    "\n"
   ]
  },
  {
   "cell_type": "markdown",
   "metadata": {},
   "source": [
    "---\n",
    "We will opt for the Euclidean distance as our measure of distance, which is defined by the following mathematical expression:  \n",
    "\n",
    "$$\n",
    "d(p, q) = \\sqrt{(p - q)^{T} (p - q)}\n",
    "$$\n",
    "  \n",
    "---\n"
   ]
  },
  {
   "cell_type": "code",
   "execution_count": 23,
   "metadata": {},
   "outputs": [
    {
     "name": "stdout",
     "output_type": "stream",
     "text": [
      "The distance between point 10 and 67 is 800.0024999960938\n"
     ]
    }
   ],
   "source": [
    "# Define a function to calculate the Euclidean distance between two points in a feature space.\n",
    "def distance(p, q):\n",
    "    \"\"\"\n",
    "    Calculate the Euclidean distance between two points in a feature space.\n",
    "\n",
    "    Parameters:\n",
    "    p (numpy.ndarray): The feature vector of the first point.\n",
    "    q (numpy.ndarray): The feature vector of the second point.\n",
    "\n",
    "    Returns:\n",
    "    float: The Euclidean distance between the two points.\n",
    "    \"\"\"\n",
    "    # Calculate the squared differences between the corresponding features of the two points.\n",
    "    squared_diff = (p - q) ** 2\n",
    "    # Sum the squared differences.\n",
    "    sum_squared_diff = np.sum(squared_diff)\n",
    "    # Take the square root of the sum to get the Euclidean distance.\n",
    "    euclidean_distance = np.sqrt(sum_squared_diff)\n",
    "    return euclidean_distance\n",
    "\n",
    "# Assuming X contains the features of your penguin dataset\n",
    "# Print the distance between point 10 and point 67 in the dataset.\n",
    "print(f\"The distance between point 10 and 67 is {distance(X[10], X[67])}\")\n",
    "\n"
   ]
  },
  {
   "cell_type": "markdown",
   "metadata": {},
   "source": [
    "---\n",
    "Now that we have our distance function in place, we can proceed to create a function that calculates the $k$-nearest neighbors to a specified point. This task is accomplished in the following code cell.\n",
    "\n",
    "--"
   ]
  },
  {
   "cell_type": "code",
   "execution_count": 25,
   "metadata": {},
   "outputs": [],
   "source": [
    "def knn(point, \n",
    "        training_features, \n",
    "        training_labels, \n",
    "        k):\n",
    "    \"\"\"\n",
    "    Calculates the k-nearest neighbors to a given point.\n",
    "\n",
    "    Parameters:\n",
    "    - point: The point for which to find the nearest neighbors.\n",
    "    - training_features: The features of the training dataset.\n",
    "    - training_labels: The labels of the training dataset.\n",
    "    - k: The number of neighbors to consider.\n",
    "\n",
    "    Returns:\n",
    "    - neighbors: A list of the k-nearest neighbors, each consisting of the features,\n",
    "      label, and distance from the given point.\n",
    "    \"\"\"\n",
    "    \n",
    "    # Calculate the Euclidean distances between the point and all training points\n",
    "    distances = np.sqrt(np.sum((training_features - point) ** 2, axis=1))\n",
    "    \n",
    "    # Combine distances with corresponding labels\n",
    "    neighbors = list(zip(training_features, training_labels, distances))\n",
    "    \n",
    "    # Sort the neighbors list by the distances\n",
    "    neighbors.sort(key=lambda x: x[2])\n",
    "    \n",
    "    return neighbors[:k]\n",
    "\n",
    "\n"
   ]
  },
  {
   "cell_type": "code",
   "execution_count": 26,
   "metadata": {},
   "outputs": [
    {
     "name": "stdout",
     "output_type": "stream",
     "text": [
      "The 5 nearest neighbors for the test point are:\n",
      "Point: [ 200. 4050.], Label: Adelie, Distance: 1.0\n",
      "Point: [ 203. 4050.], Label: Chinstrap, Distance: 2.0\n",
      "Point: [ 192. 4050.], Label: Adelie, Distance: 9.0\n",
      "Point: [ 201. 4000.], Label: Adelie, Distance: 50.0\n",
      "Point: [ 195. 4150.], Label: Chinstrap, Distance: 100.17983829094555\n"
     ]
    }
   ],
   "source": [
    "# Get the 5 nearest neighbors for the test point.\n",
    "result = knn(X_test[-1], X_train, y_train, 5)\n",
    "\n",
    "# Display the nearest neighbors.\n",
    "print(\"The 5 nearest neighbors for the test point are:\")\n",
    "for neighbor in result:\n",
    "    print(f\"Point: {neighbor[0]}, Label: {neighbor[1]}, Distance: {neighbor[2]}\")\n"
   ]
  },
  {
   "cell_type": "code",
   "execution_count": 27,
   "metadata": {},
   "outputs": [
    {
     "name": "stdout",
     "output_type": "stream",
     "text": [
      "True label of the last point in the test set: Chinstrap\n"
     ]
    }
   ],
   "source": [
    "# Print the true label of the last point in the test set\n",
    "print(\"True label of the last point in the test set:\", y_test[-1])\n",
    "\n"
   ]
  },
  {
   "cell_type": "markdown",
   "metadata": {},
   "source": [
    "---\n",
    "\n",
    "With our ability to find the $k$-nearest neighbors to any given point, we can proceed to create a function that predicts a target label. It's important to mention that KNN is versatile, as it can be applied to both classification and regression tasks. This versatility is demonstrated in the following code cell.\n",
    "\n",
    "---"
   ]
  },
  {
   "cell_type": "code",
   "execution_count": 28,
   "metadata": {},
   "outputs": [],
   "source": [
    "def KNN_Predict(point, \n",
    "                training_features, \n",
    "                training_labels, \n",
    "                k, \n",
    "                regression=False):\n",
    "    \"\"\"\n",
    "    Predicts the target label for a given point using the K-Nearest Neighbors algorithm.\n",
    "\n",
    "    Parameters:\n",
    "    point (array-like): The feature values of the point for which to make a prediction.\n",
    "    training_features (array-like): The feature values of the training dataset.\n",
    "    training_labels (array-like): The target labels of the training dataset.\n",
    "    k (int): The number of nearest neighbors to consider.\n",
    "    regression (bool, optional): If True, performs regression; otherwise, performs classification. Defaults to False.\n",
    "\n",
    "    Returns:\n",
    "    object: The predicted label.\n",
    "    \"\"\"\n",
    "    # Find the k nearest neighbors\n",
    "    neighbors = k_nearest_neighbors(point, \n",
    "                                    training_features, \n",
    "                                    training_labels, \n",
    "                                    k)\n",
    "    \n",
    "    if not regression:\n",
    "        # Classification: Return the most common label among the k nearest neighbors\n",
    "        labels = [x[1] for x in neighbors]\n",
    "        return max(labels, key=labels.count)\n",
    "    else:\n",
    "        # Regression: Return the average of the labels among the k nearest neighbors\n",
    "        return sum(x[1] for x in neighbors) / k\n",
    "\n"
   ]
  },
  {
   "cell_type": "code",
   "execution_count": 30,
   "metadata": {},
   "outputs": [
    {
     "name": "stdout",
     "output_type": "stream",
     "text": [
      "Predicted label: Gentoo\n"
     ]
    }
   ],
   "source": [
    "# Test the KNN_Predict function with a single test point\n",
    "prediction = KNN_Predict(X_test[20], X_train, y_train, k=5)\n",
    "print(\"Predicted label:\", prediction)"
   ]
  },
  {
   "cell_type": "markdown",
   "metadata": {},
   "source": [
    "---\n",
    "\n",
    "Now, we create a function designed to calculate the classification error.\n",
    "\n",
    "---"
   ]
  },
  {
   "cell_type": "code",
   "execution_count": 31,
   "metadata": {},
   "outputs": [],
   "source": [
    "def classification_error(test_features, \n",
    "                         test_labels,\n",
    "                         training_features, \n",
    "                         training_labels,\n",
    "                         k):\n",
    "    \"\"\"\n",
    "    Computes the classification error of a k-nearest neighbors classifier.\n",
    "    \n",
    "    Parameters:\n",
    "    - test_features (numpy array): The feature vectors of the test data.\n",
    "    - test_labels (numpy array): The true labels of the test data.\n",
    "    - training_features (numpy array): The feature vectors of the training data.\n",
    "    - training_labels (numpy array): The true labels of the training data.\n",
    "    - k (int): The number of neighbors to consider for classification.\n",
    "    \n",
    "    Returns:\n",
    "    - error_rate (float): The classification error rate, expressed as the proportion of misclassified points.\n",
    "    \"\"\"\n",
    "    # Initialize error count.\n",
    "    error = 0\n",
    "    \n",
    "    # Iterate over each test point and label.\n",
    "    for point, label in zip(test_features, test_labels):\n",
    "        # Check if the predicted label matches the true label.\n",
    "        if label != KNN_Predict(point, training_features, training_labels, k):\n",
    "            # If not, increment the error count.\n",
    "            error += 1\n",
    "    \n",
    "    # Calculate and return the classification error.\n",
    "    return error / len(test_features)  # Return the proportion of misclassified points.\n"
   ]
  },
  {
   "cell_type": "code",
   "execution_count": 32,
   "metadata": {},
   "outputs": [
    {
     "data": {
      "text/plain": [
       "0.3333333333333333"
      ]
     },
     "execution_count": 32,
     "metadata": {},
     "output_type": "execute_result"
    }
   ],
   "source": [
    "# Test our function.\n",
    "classification_error(X_test, y_test, X_train, y_train, 10)"
   ]
  },
  {
   "cell_type": "markdown",
   "metadata": {},
   "source": [
    "---\n",
    "#### Evaluating the Classification Error of KNN  \n",
    "The classification error of 0.33 obtained from the KNN algorithm suggests that approximately 33% of the test instances were misclassified. While KNN is a straightforward and easy-to-implement algorithm, its performance may not always be optimal for classification tasks due to several reasons:\n",
    "\n",
    "- Sensitivity to Noise and Outliers: KNN can be sensitive to noisy data and outliers, leading to suboptimal performance in the presence of such instances.  \n",
    "- Computational Complexity: KNN's computational complexity increases with the size of the dataset, making it less efficient for large-scale applications.  \n",
    "- Feature Scaling: KNN's performance can be influenced by feature scales, necessitating preprocessing steps such as feature scaling to ensure fair comparisons between features.  \n",
    "\n",
    "Given these considerations, it may be beneficial to explore alternative classifiers that offer better robustness, efficiency, and performance for the specific characteristics of the dataset and problem domain.\n",
    "\n",
    "---"
   ]
  },
  {
   "cell_type": "markdown",
   "metadata": {},
   "source": [
    "---\n",
    "\n",
    "## Selecting the Optimal K Value  \n",
    "\n",
    "To determine the most suitable K value for your dataset, the KNN algorithm is executed multiple times with different K values. The goal is to minimize errors while ensuring the model's capability to accurately predict unseen data.\n",
    "\n",
    "#### Considerations:  \n",
    "\n",
    "1. Decreasing K to 1 reduces prediction stability. With K=1, a query surrounded by mostly red points but with one green neighbor may be incorrectly classified as green.  \n",
    "\n",
    "2.  Increasing K enhances prediction stability through majority voting or averaging, potentially leading to more accurate predictions until a point where errors escalate.  \n",
    "\n",
    "3.  Odd values of K are preferred in majority voting scenarios to break ties.  \n",
    "\n",
    "#### Selecting the Best K Value  \n",
    "\n",
    "- No standardized statistical methods exist to determine the optimal K.  \n",
    "\n",
    "- Experiment with various K values, starting with a random selection.  \n",
    "\n",
    "- Smaller K values result in erratic decision boundaries, while larger ones lead to smoother boundaries.  \n",
    "\n",
    "- Plot the error rate against K values to identify the K value with the lowest error rate.  \n",
    "\n",
    "#### Pros\n",
    "\n",
    "- Simple and straightforward implementation.  \n",
    "- No model building or parameter tuning required.  \n",
    "- Versatile application in classification, regression, and search tasks.  \n",
    "\n",
    "#### Cons  \n",
    "- Slower performance with increased data size or predictor variables."
   ]
  },
  {
   "cell_type": "code",
   "execution_count": 34,
   "metadata": {},
   "outputs": [
    {
     "data": {
      "image/png": "[encoded data removed]",
      "text/plain": [
       "<Figure size 720x576 with 1 Axes>"
      ]
     },
     "metadata": {
      "needs_background": "light"
     },
     "output_type": "display_data"
    }
   ],
   "source": [
    "# Define possible values for K\n",
    "possible_k = list(range(1, 26, 2))  # We consider only odd values of K.\n",
    "\n",
    "# Calculate classification errors for each K value\n",
    "errors = [classification_error(X_test, y_test, X_train, y_train, k) for k in possible_k]\n",
    "\n",
    "# Plot the errors\n",
    "plt.figure(figsize=(10, 8))\n",
    "plt.plot(possible_k, errors, color='red', marker=\"o\")  # Plotting the classification errors.\n",
    "plt.xlabel('K', fontsize=14)  # Labeling the x-axis as 'K'.\n",
    "plt.ylabel('Classification Error', fontsize=14)  # Labeling the y-axis as 'Classification Error'.\n",
    "plt.title('Optimal K Value Selection', fontsize=16)  # Setting the title of the plot.\n",
    "plt.xticks(possible_k)  # Setting ticks for the x-axis with possible K values.\n",
    "plt.grid(True)  # Adding a grid to the plot for better visualization.\n",
    "plt.show()  # Displaying the plot.\n",
    "\n"
   ]
  },
  {
   "cell_type": "markdown",
   "metadata": {},
   "source": [
    "---\n",
    "## In Conclusion\n",
    "\n",
    "K-Nearest Neighbors (KNN) is a simple yet effective algorithm for classification and regression tasks. By considering the proximity of data points, it can make predictions without the need for model training. However, its performance heavily depends on the choice of K and can be computationally expensive for large datasets. Despite its limitations, KNN remains a valuable tool in machine learning due to its simplicity and versatility.\n",
    "\n",
    "---"
   ]
  },
  {
   "cell_type": "markdown",
   "metadata": {},
   "source": []
  }
 ],
 "metadata": {
  "kernelspec": {
   "display_name": "base",
   "language": "python",
   "name": "python3"
  },
  "language_info": {
   "codemirror_mode": {
    "name": "ipython",
    "version": 3
   },
   "file_extension": ".py",
   "mimetype": "text/x-python",
   "name": "python",
   "nbconvert_exporter": "python",
   "pygments_lexer": "ipython3",
   "version": "3.8.8"
  }
 },
 "nbformat": 4,
 "nbformat_minor": 2
}
